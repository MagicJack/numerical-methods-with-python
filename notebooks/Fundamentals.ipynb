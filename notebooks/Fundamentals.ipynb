{
 "cells": [
  {
   "cell_type": "markdown",
   "id": "extra-career",
   "metadata": {},
   "source": [
    "# 基本操作\n",
    "上個章節我們並沒有深入講解`numpy`跟`matplotlib`的操作。這個章節我們就稍微提一些常用功能。首先，numpy是個用C語言寫成的函式庫，支援多維度陣列(N-Dimensional Array)。首先我們就來看看要如何令一個陣列。\n",
    "## 變數指定 Assignments"
   ]
  },
  {
   "cell_type": "code",
   "execution_count": 1,
   "id": "analyzed-making",
   "metadata": {},
   "outputs": [
    {
     "data": {
      "text/plain": [
       "array([[1, 2],\n",
       "       [3, 4],\n",
       "       [5, 6]])"
      ]
     },
     "execution_count": 1,
     "metadata": {},
     "output_type": "execute_result"
    }
   ],
   "source": [
    "import numpy as np\n",
    "arr = np.array([[1, 2], [3, 4], [5, 6]])\n",
    "arr"
   ]
  },
  {
   "cell_type": "markdown",
   "id": "united-validity",
   "metadata": {},
   "source": [
    "這就是一個一維陣列，要注意的是，numpy的陣列是不能修改長度的，而且每個數值都必須是相同的型別(type)。這一點跟python內建的`list`很不一樣。這格特性是源自於C/C++的陣列的用法。  \n",
    "numpy的陣列有幾個重要的attribute(屬性)\n",
    "* ndim: number of dimensions；維度\n",
    "* shape: shape of ndarray；每個維度的長度\n",
    "* dtype: underlying data type of each element；每個資料的型別\n",
    "* size: number of elements；有幾筆資料，shape所有長度的乘積"
   ]
  },
  {
   "cell_type": "code",
   "execution_count": 2,
   "id": "incomplete-product",
   "metadata": {},
   "outputs": [
    {
     "name": "stdout",
     "output_type": "stream",
     "text": [
      "<class 'numpy.ndarray'>\n",
      "arr dimension: 2\n",
      "arr shape: (3, 2)\n",
      "arr element data type: int64\n",
      "arr number of elements: 6\n"
     ]
    }
   ],
   "source": [
    "print(type(arr))\n",
    "print('arr dimension:', arr.ndim)\n",
    "print('arr shape:', arr.shape)\n",
    "print('arr element data type:', arr.dtype)\n",
    "print('arr number of elements:', arr.size)"
   ]
  },
  {
   "cell_type": "markdown",
   "id": "metallic-invalid",
   "metadata": {},
   "source": [
    "### 科學常數\n",
    "numpy內建許多科學常數，比如最常見的($\\pi$)、數值無限($\\infty$)、非數值(Not a Number, NaN)都有明確定義。他跟python內建的`math`模組所定義的常數是可以互換的。那位什麼不用math就好？因為這樣能少一個import很方便。"
   ]
  },
  {
   "cell_type": "code",
   "execution_count": 3,
   "id": "injured-mechanics",
   "metadata": {},
   "outputs": [
    {
     "name": "stdout",
     "output_type": "stream",
     "text": [
      "True\n"
     ]
    }
   ],
   "source": [
    "import math\n",
    "print(np.inf == math.inf)"
   ]
  },
  {
   "cell_type": "markdown",
   "id": "gorgeous-hundred",
   "metadata": {},
   "source": [
    "### 陣列、矩陣、高維度陣列 Arrays, Matrices, and ndarrays\n",
    "除了前面提到可以利用`numpy.array`來建立自己想要的陣列。numpy也提供其他函式方便我們建立一些常用的矩陣。以下列舉一些常用的：\n",
    "\n",
    "`zeros`: 零矩陣，通常表示為$O$"
   ]
  },
  {
   "cell_type": "code",
   "execution_count": 26,
   "id": "compressed-battery",
   "metadata": {},
   "outputs": [
    {
     "data": {
      "text/plain": [
       "array([[0., 0.],\n",
       "       [0., 0.],\n",
       "       [0., 0.]])"
      ]
     },
     "execution_count": 26,
     "metadata": {},
     "output_type": "execute_result"
    }
   ],
   "source": [
    "np.zeros((3, 2))"
   ]
  },
  {
   "cell_type": "markdown",
   "id": "devoted-honduras",
   "metadata": {},
   "source": [
    "`ones`: 一矩陣，全部都是一的矩陣"
   ]
  },
  {
   "cell_type": "code",
   "execution_count": 27,
   "id": "economic-hanging",
   "metadata": {},
   "outputs": [
    {
     "data": {
      "text/plain": [
       "array([[1., 1.],\n",
       "       [1., 1.],\n",
       "       [1., 1.]])"
      ]
     },
     "execution_count": 27,
     "metadata": {},
     "output_type": "execute_result"
    }
   ],
   "source": [
    "np.ones((3, 2))"
   ]
  },
  {
   "cell_type": "markdown",
   "id": "missing-rebel",
   "metadata": {},
   "source": [
    "`empty`: 空矩陣。沒有初始值的記憶體區塊。寫C的可以把他理解為`malloc`，C++可以把他當作是`new[]`。因為沒有定義初始值，所以一開始記憶體內的數值便是亂碼。empty最大的用處是先配一塊記憶體，再用for迴圈將值寫進去。(從C/C++/Java來的應該很熟悉這種操作）"
   ]
  },
  {
   "cell_type": "code",
   "execution_count": 28,
   "id": "graduate-catalyst",
   "metadata": {},
   "outputs": [
    {
     "data": {
      "text/plain": [
       "array([[4.66017529e-310, 0.00000000e+000, 3.29673704e+180,\n",
       "        7.19026821e+252],\n",
       "       [3.07941658e+175, 1.21906099e-152, 6.09249078e+247,\n",
       "        4.95264277e+223]])"
      ]
     },
     "execution_count": 28,
     "metadata": {},
     "output_type": "execute_result"
    }
   ],
   "source": [
    "np.empty((2, 4))"
   ]
  },
  {
   "cell_type": "markdown",
   "id": "invisible-comfort",
   "metadata": {},
   "source": [
    "`identity`: 單位矩陣。diagonal為1其餘為0的方陣，通常表示為$I$"
   ]
  },
  {
   "cell_type": "code",
   "execution_count": 30,
   "id": "outside-nightmare",
   "metadata": {},
   "outputs": [
    {
     "data": {
      "text/plain": [
       "array([[1., 0., 0.],\n",
       "       [0., 1., 0.],\n",
       "       [0., 0., 1.]])"
      ]
     },
     "execution_count": 30,
     "metadata": {},
     "output_type": "execute_result"
    }
   ],
   "source": [
    "np.identity(3) # can only be square matrix"
   ]
  },
  {
   "cell_type": "markdown",
   "id": "efficient-permit",
   "metadata": {},
   "source": [
    "### 序列生成 Sequence Generation\n",
    "除了上述矩陣之外，我們有時候也會需要產生一組序列，方便我們迭代或取值。`numpy.arrange`就是這個功能。他跟python內建`range`的差異就是`numpy.arrange`產生的是`numpy.ndarray`所以比較方便操作。此外python range 產生的是generator而不是list，所以如果要得到list還要自己unpack。"
   ]
  },
  {
   "cell_type": "code",
   "execution_count": 5,
   "id": "wrapped-tribe",
   "metadata": {},
   "outputs": [
    {
     "name": "stdout",
     "output_type": "stream",
     "text": [
      "[1, 2, 3, 4, 5] <class 'list'>\n",
      "[1 2 3 4 5] <class 'numpy.ndarray'>\n"
     ]
    }
   ],
   "source": [
    "py_range = [i for i in range(1, 6)]\n",
    "print(py_range, type(py_range))\n",
    "np_arange = np.arange(1, 6, step=1)\n",
    "print(np_arange, type(np_arange))"
   ]
  },
  {
   "cell_type": "markdown",
   "id": "sensitive-greek",
   "metadata": {},
   "source": [
    "此外numpy跟matlab一樣也有`linspace`跟`logspace`。這兩個基本上就是幫你產生線性的座標點，或是對數的座標點，在繪圖的時候很方便。"
   ]
  },
  {
   "cell_type": "code",
   "execution_count": 31,
   "id": "powered-leather",
   "metadata": {},
   "outputs": [
    {
     "data": {
      "text/plain": [
       "array([1.  , 2.25, 3.5 , 4.75, 6.  ])"
      ]
     },
     "execution_count": 31,
     "metadata": {},
     "output_type": "execute_result"
    }
   ],
   "source": [
    "np.linspace(1, 6, 5)"
   ]
  },
  {
   "cell_type": "code",
   "execution_count": 32,
   "id": "stunning-cherry",
   "metadata": {},
   "outputs": [
    {
     "data": {
      "text/plain": [
       "array([1.00000000e+01, 1.77827941e+02, 3.16227766e+03, 5.62341325e+04,\n",
       "       1.00000000e+06])"
      ]
     },
     "execution_count": 32,
     "metadata": {},
     "output_type": "execute_result"
    }
   ],
   "source": [
    "np.logspace(1, 6, 5)"
   ]
  },
  {
   "cell_type": "markdown",
   "id": "blank-wright",
   "metadata": {},
   "source": [
    "> 你可以調整`numpy.arange`跟`numpy.linspace`的第三個參數觀察他們的不同之處。arange的第三個參數是*點到點之間的間隔*，而linspace則是*從頭到尾必須分割出多少點*"
   ]
  },
  {
   "cell_type": "markdown",
   "id": "bored-fabric",
   "metadata": {},
   "source": [
    "## 數學運算 Mathematical operations\n",
    "numpy.ndarray支援所有python的數學運算。也就是加減乘除跟次方(a**2)。當然，bitwise operatrion 如且(&)、或(|)、非(~)以及XOR(^)也都是支援的。"
   ]
  },
  {
   "cell_type": "code",
   "execution_count": 36,
   "id": "velvet-stanford",
   "metadata": {},
   "outputs": [
    {
     "name": "stdout",
     "output_type": "stream",
     "text": [
      "[1.2 1.4 1.6 1.8 2. ]\n"
     ]
    }
   ],
   "source": [
    "a = np.arange(1, 6)\n",
    "b = np.ones(5)\n",
    "print(a * 0.2 + b)"
   ]
  },
  {
   "cell_type": "code",
   "execution_count": 37,
   "id": "canadian-baseball",
   "metadata": {},
   "outputs": [
    {
     "data": {
      "text/plain": [
       "array([ 1,  4,  9, 16, 25])"
      ]
     },
     "execution_count": 37,
     "metadata": {},
     "output_type": "execute_result"
    }
   ],
   "source": [
    "a**2"
   ]
  },
  {
   "cell_type": "markdown",
   "id": "foster-madagascar",
   "metadata": {},
   "source": [
    "跟python內建的數字做四則運算也是OK的"
   ]
  },
  {
   "cell_type": "code",
   "execution_count": 38,
   "id": "specific-defendant",
   "metadata": {},
   "outputs": [
    {
     "data": {
      "text/plain": [
       "array([3., 3., 3., 3., 3.])"
      ]
     },
     "execution_count": 38,
     "metadata": {},
     "output_type": "execute_result"
    }
   ],
   "source": [
    "b * 3 # works with scalars too"
   ]
  },
  {
   "cell_type": "markdown",
   "id": "automated-platform",
   "metadata": {},
   "source": [
    "此外我們最在乎的當然不是上面那些一對一的運算，而是矩陣運算。numpy也有提供矩陣法。以下顯示內積的作法："
   ]
  },
  {
   "cell_type": "code",
   "execution_count": 39,
   "id": "guilty-share",
   "metadata": {},
   "outputs": [
    {
     "name": "stdout",
     "output_type": "stream",
     "text": [
      "[0.55 0.45]\n"
     ]
    }
   ],
   "source": [
    "x = np.array([0.1, 0.9]) # vector\n",
    "\n",
    "A = np.array([[0.1, 0.6], # matrix\n",
    "              [0.9, 0.4]])\n",
    "\n",
    "# all three statements are equivilent\n",
    "x1 = A @ x\n",
    "# x1 = A.dot(x)\n",
    "# x1 = np.dot(A, x)\n",
    "print(x1)"
   ]
  },
  {
   "cell_type": "markdown",
   "id": "manufactured-orleans",
   "metadata": {},
   "source": [
    "## Numpy 通用函式 Numpy Universal Functions\n",
    "除了四則運算其他函式也不可少。numpy當然應有盡有。這些函式`math`模組也有，但是math的函式不能用在ndarray上，但numpy的通用函式可以用在python內建型別，所以能用numpy就用numpy。工程上常見的就是下面幾種：\n",
    "指數與對數：exponential指數 [`np.exp(x)`](https://numpy.org/doc/stable/reference/generated/numpy.exp.html), 自然對數 [`np.log(x)`](https://numpy.org/doc/stable/reference/generated/numpy.log.html), 以10為底的對數 $log_{10}(x)$ [`np.log10(x)`](https://numpy.org/doc/stable/reference/generated/numpy.log10.html)"
   ]
  },
  {
   "cell_type": "code",
   "execution_count": 41,
   "id": "failing-allergy",
   "metadata": {},
   "outputs": [
    {
     "name": "stdout",
     "output_type": "stream",
     "text": [
      "2.718281828459045\n",
      "[[2.71828183 2.71828183]\n",
      " [2.71828183 2.71828183]\n",
      " [2.71828183 2.71828183]]\n"
     ]
    }
   ],
   "source": [
    "# numpy works with both scalar and ndarrays!\n",
    "arr = np.ones((3, 2))\n",
    "print(np.exp(1))\n",
    "print(np.exp(arr))\n",
    "# print(math.exp(arr)) # TypeError, math only works with scalars"
   ]
  },
  {
   "cell_type": "markdown",
   "id": "sealed-donor",
   "metadata": {},
   "source": [
    "三角函數系列：包含一般三角函數 [`np.sin`](https://numpy.org/doc/stable/reference/generated/numpy.sin.html), [`np.cos`](https://numpy.org/doc/stable/reference/generated/numpy.cos.html); hyperbolic三角函數 [`np.sinh`](https://numpy.org/doc/stable/reference/generated/numpy.sinh.html), [`np.cosh`](https://numpy.org/doc/stable/reference/generated/numpy.cosh.html); 反函數 [`np.arcsin`](https://numpy.org/doc/stable/reference/generated/numpy.arcsin.html)。三角函數相關的參數都是以徑度(radians)為單位。所以numpy也提供了一些函數幫你簡易轉換。[`np.deg2rad`](https://numpy.org/doc/stable/reference/generated/numpy.deg2rad.html) 從角度(degrees)轉成徑度(radians)，反之 [`np.rad2deg`](https://numpy.org/doc/stable/reference/generated/numpy.rad2deg.html) 就是徑度轉成角度。\n",
    "> deg2rad 讀作 *degrees-to-radians*，讀成 *deg二rad* 就low 掉了。\n",
    "\n",
    "有方向性的三角函數：例如 [`np.arctan2`](https://numpy.org/doc/stable/reference/generated/numpy.arctan2.html) 也蠻重要的。"
   ]
  },
  {
   "cell_type": "code",
   "execution_count": 45,
   "id": "promotional-charge",
   "metadata": {},
   "outputs": [
    {
     "name": "stdout",
     "output_type": "stream",
     "text": [
      "1.0\n",
      "pi/4 45.0 degrees\n",
      "arctan(1) is 45.0 degrees\n"
     ]
    }
   ],
   "source": [
    "print(np.sin(np.pi/2)) # 90 degrees\n",
    "print(f'pi/4 {np.rad2deg(np.pi/4)} degrees')\n",
    "print('arctan(1) is', np.rad2deg(np.arctan(1)), 'degrees')"
   ]
  },
  {
   "cell_type": "markdown",
   "id": "talented-morocco",
   "metadata": {},
   "source": [
    "有方向性的三角函數：例如 [`np.arctan2`](https://numpy.org/doc/stable/reference/generated/numpy.arctan2.html) 也蠻重要的。因為第二跟第四象限、或是第一跟第三象限的三角函數值是正負號是相同的。所以有時候把分子(numerator)跟分母(denominator)拆開才會獲得正確的結果。"
   ]
  },
  {
   "cell_type": "code",
   "execution_count": 52,
   "id": "mature-wings",
   "metadata": {},
   "outputs": [
    {
     "name": "stdout",
     "output_type": "stream",
     "text": [
      "135.0\n",
      "-45.0\n"
     ]
    }
   ],
   "source": [
    "# np.arctan2(y, x)\n",
    "print(np.rad2deg(np.arctan2(1, -1))) # 2nd quadrant (x-, y+)\n",
    "print(np.rad2deg(np.arctan2(-1, 1))) # 4th quadrant (x+, y-)"
   ]
  },
  {
   "cell_type": "markdown",
   "id": "thousand-planner",
   "metadata": {},
   "source": [
    "進位、捨去：無條件捨去 [`np.floor(x)`](https://numpy.org/doc/stable/reference/generated/numpy.floor.html), 無條件進位 [`np.ceil(x)`](https://numpy.org/doc/stable/reference/generated/numpy.ceil.html), 四捨六入五雙數 [`np.around(x)`](https://numpy.org/doc/stable/reference/generated/numpy.around.html)"
   ]
  },
  {
   "cell_type": "code",
   "execution_count": 46,
   "id": "earned-lightweight",
   "metadata": {},
   "outputs": [
    {
     "name": "stdout",
     "output_type": "stream",
     "text": [
      "[[1.27 1.27]\n",
      " [1.27 1.27]\n",
      " [1.27 1.27]]\n"
     ]
    }
   ],
   "source": [
    "# rounding\n",
    "arr = np.full((3, 2), 1.275)\n",
    "# print(np.floor(arr))\n",
    "# print(np.ceil(arr))\n",
    "print(np.around(arr, decimals=2))"
   ]
  },
  {
   "cell_type": "markdown",
   "id": "wooden-highland",
   "metadata": {},
   "source": [
    "Reducing Function：可以縮減維度的函式。比如說 [`np.sum`](https://numpy.org/doc/stable/reference/generated/numpy.sum.html)可以用以下的數學式表示\n",
    "$$\n",
    "\\textbf{v} = {\\sum_{\\forall i} \\textbf{A}_{ij}}\n",
    "$$\n",
    "根據上面的式子可以觀察到我們不僅可以把向量加總成單一數值，也可以把根據不同的方向降維。在numpy裡方向被稱為axis。"
   ]
  },
  {
   "cell_type": "code",
   "execution_count": 55,
   "id": "valid-mineral",
   "metadata": {},
   "outputs": [
    {
     "name": "stdout",
     "output_type": "stream",
     "text": [
      "21\n",
      "[ 9 12]\n",
      "[ 3  7 11]\n"
     ]
    }
   ],
   "source": [
    "A = np.array([[1, 2],\n",
    "              [3, 4],\n",
    "              [5, 6]])\n",
    "print(np.sum(A)) # axis defaults to -1, which means \"all elements\"\n",
    "print(np.sum(A, axis=0)) # sum in the row direction\n",
    "print(np.sum(A, axis=1)) # sum in the column direction"
   ]
  },
  {
   "cell_type": "markdown",
   "id": "casual-browse",
   "metadata": {},
   "source": [
    "當然不只加總，我們也可以用[`np.prod`](https://numpy.org/doc/stable/reference/generated/numpy.prod.html)表示連乘\n",
    "$$\n",
    "\\textbf{v} = {\\prod_{\\forall i} \\textbf{A}_{ij}}\n",
    "$$"
   ]
  },
  {
   "cell_type": "code",
   "execution_count": 57,
   "id": "advanced-pendant",
   "metadata": {},
   "outputs": [
    {
     "name": "stdout",
     "output_type": "stream",
     "text": [
      "720\n",
      "[15 48]\n",
      "[ 2 12 30]\n"
     ]
    }
   ],
   "source": [
    "print(np.prod(A)) # equivilent to `6!`\n",
    "print(np.prod(A, axis=0))\n",
    "print(np.prod(A, axis=1))"
   ]
  },
  {
   "cell_type": "markdown",
   "id": "noble-contents",
   "metadata": {},
   "source": [
    "當然比大小也OK。"
   ]
  },
  {
   "cell_type": "code",
   "execution_count": 58,
   "id": "dried-attribute",
   "metadata": {},
   "outputs": [
    {
     "name": "stdout",
     "output_type": "stream",
     "text": [
      "[5 6]\n",
      "[1 3 5]\n"
     ]
    }
   ],
   "source": [
    "print(np.amax(A, axis=0))\n",
    "print(np.amin(A, axis=1))"
   ]
  },
  {
   "cell_type": "markdown",
   "id": "received-filling",
   "metadata": {},
   "source": [
    "## 繪圖 Graphics\n",
    "不是每個人都對數字這麼直覺，所以有時候繪圖比較容易理解某些問題。科學相關的繪圖都是用x,y座標點相連來產生圖像。雖然很便利，點越多畫的圖就越精準。\n",
    "繪圖的大致流程通常是：\n",
    "1. 產生 x 座標\n",
    "2. 帶入函數 $y=f(x)$ 得到所有的y座標\n",
    "3. 繪製\n",
    "4. 修改畫面設定\n",
    "\n",
    "numpy本身只是拿來運算的，所以這裡我們要用`matplotlib`來進行繪圖。\n",
    "\n",
    "舉上個章節的解析解為例：\n",
    "$$\n",
    "v(t)=\\sqrt {{gm} \\over c_d} \\tanh (\\sqrt{{gc_d}\\over m}t)\n",
    "$$\n",
    "已知的東西可以先設定常數，$g=9.81$、$m=72$、$c_d=0.25$"
   ]
  },
  {
   "cell_type": "code",
   "execution_count": 66,
   "id": "loved-blond",
   "metadata": {},
   "outputs": [
    {
     "data": {
      "image/png": "[encoded data removed]",
      "text/plain": [
       "<Figure size 432x288 with 1 Axes>"
      ]
     },
     "metadata": {
      "needs_background": "light"
     },
     "output_type": "display_data"
    }
   ],
   "source": [
    "import matplotlib.pyplot as plt\n",
    "\n",
    "g = 9.81\n",
    "m = 72\n",
    "cd = 0.25\n",
    "\n",
    "# step 1\n",
    "t = np.arange(0, 12, 1)\n",
    "# step 2\n",
    "v = np.sqrt(g*m/cd) * np.tanh(np.sqrt(g*cd/m) * t)\n",
    "# step 3\n",
    "plt.plot(t, v)\n",
    "plt.show()"
   ]
  },
  {
   "cell_type": "markdown",
   "id": "hairy-bridge",
   "metadata": {},
   "source": [
    "et Voila! 圖就出來了！當然這樣的圖別人也不清楚你畫的是什麼，所以通常我們可以佳一些註解。比如說標題title、x軸的單位、y軸的單位等等。\n",
    "> 你可以改改`t`最後面的參數step，看看圖會有什麼變化"
   ]
  },
  {
   "cell_type": "code",
   "execution_count": 64,
   "id": "ordinary-finnish",
   "metadata": {},
   "outputs": [
    {
     "data": {
      "image/png": "[encoded data removed]",
      "text/plain": [
       "<Figure size 432x288 with 1 Axes>"
      ]
     },
     "metadata": {
      "needs_background": "light"
     },
     "output_type": "display_data"
    }
   ],
   "source": [
    "plt.plot(t, v)\n",
    "plt.title('speed over time')\n",
    "plt.xlabel('time (sec)')\n",
    "plt.ylabel('speed (m/s)')\n",
    "\n",
    "plt.show()"
   ]
  },
  {
   "cell_type": "markdown",
   "id": "general-commissioner",
   "metadata": {},
   "source": [
    "## 小結\n",
    "這個章節我們提到`numpy`跟`maplotlib`最基礎的操作。有了運算跟繪圖我們已經可以做很多事了。"
   ]
  },
  {
   "cell_type": "code",
   "execution_count": null,
   "id": "shared-rapid",
   "metadata": {},
   "outputs": [],
   "source": []
  }
 ],
 "metadata": {
  "kernelspec": {
   "display_name": "Python 3",
   "language": "python",
   "name": "python3"
  },
  "language_info": {
   "codemirror_mode": {
    "name": "ipython",
    "version": 3
   },
   "file_extension": ".py",
   "mimetype": "text/x-python",
   "name": "python",
   "nbconvert_exporter": "python",
   "pygments_lexer": "ipython3",
   "version": "3.7.7"
  }
 },
 "nbformat": 4,
 "nbformat_minor": 5
}
